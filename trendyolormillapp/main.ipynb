!pip install dicttoxml optuna datasets nbimporter cloudscraper
import data_fetching
import preprocessing
import training
import evaluation
import pandas as pd
